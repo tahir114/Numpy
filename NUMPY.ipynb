{
 "cells": [
  {
   "cell_type": "code",
   "execution_count": 1,
   "id": "3060e9b6",
   "metadata": {},
   "outputs": [],
   "source": [
    "import numpy as np"
   ]
  },
  {
   "cell_type": "code",
   "execution_count": 2,
   "id": "59ea951e",
   "metadata": {},
   "outputs": [],
   "source": [
    "myarr = np.array([2,3,6,8,4,3])  # usually we assing"
   ]
  },
  {
   "cell_type": "code",
   "execution_count": 3,
   "id": "7d0247db",
   "metadata": {},
   "outputs": [
    {
     "data": {
      "text/plain": [
       "array([2, 3, 6, 8, 4, 3])"
      ]
     },
     "execution_count": 3,
     "metadata": {},
     "output_type": "execute_result"
    }
   ],
   "source": [
    "myarr"
   ]
  },
  {
   "cell_type": "code",
   "execution_count": 4,
   "id": "d7d9bce6",
   "metadata": {},
   "outputs": [
    {
     "data": {
      "text/plain": [
       "3"
      ]
     },
     "execution_count": 4,
     "metadata": {},
     "output_type": "execute_result"
    }
   ],
   "source": [
    "myarr[1]"
   ]
  },
  {
   "cell_type": "code",
   "execution_count": 5,
   "id": "2c3e4415",
   "metadata": {},
   "outputs": [
    {
     "data": {
      "text/plain": [
       "2"
      ]
     },
     "execution_count": 5,
     "metadata": {},
     "output_type": "execute_result"
    }
   ],
   "source": [
    "myarr[0]"
   ]
  },
  {
   "cell_type": "code",
   "execution_count": 6,
   "id": "9aa4e800",
   "metadata": {},
   "outputs": [
    {
     "data": {
      "text/plain": [
       "3"
      ]
     },
     "execution_count": 6,
     "metadata": {},
     "output_type": "execute_result"
    }
   ],
   "source": [
    "myarr[5]"
   ]
  },
  {
   "cell_type": "code",
   "execution_count": 7,
   "id": "47cf4518",
   "metadata": {},
   "outputs": [
    {
     "data": {
      "text/plain": [
       "(6,)"
      ]
     },
     "execution_count": 7,
     "metadata": {},
     "output_type": "execute_result"
    }
   ],
   "source": [
    "myarr.shape"
   ]
  },
  {
   "cell_type": "markdown",
   "id": "80d7e2fc",
   "metadata": {},
   "source": [
    "#### use of np.int  \n",
    "this is use to specify the size of our array"
   ]
  },
  {
   "cell_type": "code",
   "execution_count": 8,
   "id": "b1c7fe10",
   "metadata": {},
   "outputs": [],
   "source": [
    "myarr = np.array([2,3,6,8,4,3], np.int8)"
   ]
  },
  {
   "cell_type": "code",
   "execution_count": 9,
   "id": "dbf26386",
   "metadata": {},
   "outputs": [
    {
     "data": {
      "text/plain": [
       "array([2, 3, 6, 8, 4, 3], dtype=int8)"
      ]
     },
     "execution_count": 9,
     "metadata": {},
     "output_type": "execute_result"
    }
   ],
   "source": [
    "myarr  #now this is a 8 bit array "
   ]
  },
  {
   "cell_type": "code",
   "execution_count": 10,
   "id": "686a83a7",
   "metadata": {},
   "outputs": [
    {
     "data": {
      "text/plain": [
       "array([2, 3, 6, 8, 4, 3], dtype=int16)"
      ]
     },
     "execution_count": 10,
     "metadata": {},
     "output_type": "execute_result"
    }
   ],
   "source": [
    "myarr = np.array([2,3,6,8,4,3] , np.int16)\n",
    "myarr   # this is a 16 bit array"
   ]
  },
  {
   "cell_type": "code",
   "execution_count": 11,
   "id": "2ff6ae4f",
   "metadata": {},
   "outputs": [
    {
     "data": {
      "text/plain": [
       "array([2, 3, 6, 8, 4, 3], dtype=int64)"
      ]
     },
     "execution_count": 11,
     "metadata": {},
     "output_type": "execute_result"
    }
   ],
   "source": [
    "myarr = np.array([2,3,6,8,4,3], np.int64)   # we can make it of 8,16,32,or 64 bit depends on our data size \n",
    "myarr"
   ]
  },
  {
   "cell_type": "code",
   "execution_count": 12,
   "id": "15bec172",
   "metadata": {},
   "outputs": [
    {
     "data": {
      "text/plain": [
       "dtype('int64')"
      ]
     },
     "execution_count": 12,
     "metadata": {},
     "output_type": "execute_result"
    }
   ],
   "source": [
    "myarr.dtype   # to know the data type"
   ]
  },
  {
   "cell_type": "code",
   "execution_count": 13,
   "id": "051c9803",
   "metadata": {},
   "outputs": [],
   "source": [
    "myarr = np.array([4.3,2.6,7,9.0,8], np.int32) # we have float value here so , we need to give it np.flot32 or 64,16,8"
   ]
  },
  {
   "cell_type": "code",
   "execution_count": 14,
   "id": "449c0c11",
   "metadata": {},
   "outputs": [
    {
     "data": {
      "text/plain": [
       "array([4, 2, 7, 9, 8])"
      ]
     },
     "execution_count": 14,
     "metadata": {},
     "output_type": "execute_result"
    }
   ],
   "source": [
    "myarr   # the number has been changed to int ,,, we need to give it float "
   ]
  },
  {
   "cell_type": "code",
   "execution_count": 15,
   "id": "37a4a850",
   "metadata": {},
   "outputs": [
    {
     "data": {
      "text/plain": [
       "array([4.3, 2.6, 7. , 9. , 8. ])"
      ]
     },
     "execution_count": 15,
     "metadata": {},
     "output_type": "execute_result"
    }
   ],
   "source": [
    "myarr = np.array([4.3,2.6,7,9.0,8], np.float64) # for float values\n",
    "myarr  # here the number will not change into int , it will be in float "
   ]
  },
  {
   "cell_type": "code",
   "execution_count": 16,
   "id": "836dab96",
   "metadata": {},
   "outputs": [
    {
     "data": {
      "text/plain": [
       "4.3"
      ]
     },
     "execution_count": 16,
     "metadata": {},
     "output_type": "execute_result"
    }
   ],
   "source": [
    "myarr[0]"
   ]
  },
  {
   "cell_type": "code",
   "execution_count": 17,
   "id": "45e0cde7",
   "metadata": {},
   "outputs": [
    {
     "data": {
      "text/plain": [
       "10.5"
      ]
     },
     "execution_count": 17,
     "metadata": {},
     "output_type": "execute_result"
    }
   ],
   "source": [
    "myarr[0] = 10.5 # now the number will be changed \n",
    "myarr[0]"
   ]
  },
  {
   "cell_type": "code",
   "execution_count": 18,
   "id": "0a14440d",
   "metadata": {},
   "outputs": [],
   "source": [
    "# see the above number has been chaged form 4.3 to 10.5"
   ]
  },
  {
   "cell_type": "markdown",
   "id": "c428256d",
   "metadata": {},
   "source": [
    "## Array creation "
   ]
  },
  {
   "cell_type": "code",
   "execution_count": 19,
   "id": "74ab51cb",
   "metadata": {},
   "outputs": [],
   "source": [
    "Larray = np.array([[3,4.1,5],[2,5,9.2],[33,5,7]])   # a 3D array form a list "
   ]
  },
  {
   "cell_type": "code",
   "execution_count": 20,
   "id": "421dadda",
   "metadata": {},
   "outputs": [
    {
     "data": {
      "text/plain": [
       "array([[ 3. ,  4.1,  5. ],\n",
       "       [ 2. ,  5. ,  9.2],\n",
       "       [33. ,  5. ,  7. ]])"
      ]
     },
     "execution_count": 20,
     "metadata": {},
     "output_type": "execute_result"
    }
   ],
   "source": [
    "Larray"
   ]
  },
  {
   "cell_type": "code",
   "execution_count": 21,
   "id": "6301b35e",
   "metadata": {},
   "outputs": [
    {
     "data": {
      "text/plain": [
       "dtype('float64')"
      ]
     },
     "execution_count": 21,
     "metadata": {},
     "output_type": "execute_result"
    }
   ],
   "source": [
    "Larray.dtype"
   ]
  },
  {
   "cell_type": "code",
   "execution_count": 22,
   "id": "20eb0a62",
   "metadata": {},
   "outputs": [
    {
     "data": {
      "text/plain": [
       "(3, 3)"
      ]
     },
     "execution_count": 22,
     "metadata": {},
     "output_type": "execute_result"
    }
   ],
   "source": [
    "Larray.shape"
   ]
  },
  {
   "cell_type": "code",
   "execution_count": 23,
   "id": "ac566f0b",
   "metadata": {},
   "outputs": [
    {
     "data": {
      "text/plain": [
       "9"
      ]
     },
     "execution_count": 23,
     "metadata": {},
     "output_type": "execute_result"
    }
   ],
   "source": [
    "Larray.size"
   ]
  },
  {
   "cell_type": "markdown",
   "id": "404bdc95",
   "metadata": {},
   "source": [
    "***Zeros***"
   ]
  },
  {
   "cell_type": "code",
   "execution_count": 24,
   "id": "7b6a6ffe",
   "metadata": {},
   "outputs": [],
   "source": [
    "zarray = np.zeros((2,6))  \n",
    "# this will create a array of 2 rows and 6 columns , filled with zeros\n"
   ]
  },
  {
   "cell_type": "code",
   "execution_count": 25,
   "id": "5b465dd7",
   "metadata": {},
   "outputs": [
    {
     "data": {
      "text/plain": [
       "array([[0., 0., 0., 0., 0., 0.],\n",
       "       [0., 0., 0., 0., 0., 0.]])"
      ]
     },
     "execution_count": 25,
     "metadata": {},
     "output_type": "execute_result"
    }
   ],
   "source": [
    "zarray"
   ]
  },
  {
   "cell_type": "code",
   "execution_count": 26,
   "id": "b07f4186",
   "metadata": {},
   "outputs": [
    {
     "name": "stdout",
     "output_type": "stream",
     "text": [
      "(2, 6)\n",
      "float64\n"
     ]
    },
    {
     "data": {
      "text/plain": [
       "12"
      ]
     },
     "execution_count": 26,
     "metadata": {},
     "output_type": "execute_result"
    }
   ],
   "source": [
    "print(zarray.shape)\n",
    "print(zarray.dtype)\n",
    "zarray.size"
   ]
  },
  {
   "cell_type": "markdown",
   "id": "8a6398ef",
   "metadata": {},
   "source": [
    "***arange***   (from a range )"
   ]
  },
  {
   "cell_type": "code",
   "execution_count": 27,
   "id": "a29889c2",
   "metadata": {},
   "outputs": [],
   "source": [
    "rng = np.arange(25)  # it will give you a array of range 25 (0 to 24)"
   ]
  },
  {
   "cell_type": "code",
   "execution_count": 28,
   "id": "856d6e57",
   "metadata": {},
   "outputs": [
    {
     "data": {
      "text/plain": [
       "array([ 0,  1,  2,  3,  4,  5,  6,  7,  8,  9, 10, 11, 12, 13, 14, 15, 16,\n",
       "       17, 18, 19, 20, 21, 22, 23, 24])"
      ]
     },
     "execution_count": 28,
     "metadata": {},
     "output_type": "execute_result"
    }
   ],
   "source": [
    "rng"
   ]
  },
  {
   "cell_type": "markdown",
   "id": "ff55696d",
   "metadata": {},
   "source": [
    "***linspace*** (linear space)"
   ]
  },
  {
   "cell_type": "code",
   "execution_count": 29,
   "id": "0880175c",
   "metadata": {},
   "outputs": [
    {
     "data": {
      "text/plain": [
       "array([1.        , 1.44444444, 1.88888889, 2.33333333, 2.77777778,\n",
       "       3.22222222, 3.66666667, 4.11111111, 4.55555556, 5.        ])"
      ]
     },
     "execution_count": 29,
     "metadata": {},
     "output_type": "execute_result"
    }
   ],
   "source": [
    "lspace = np.linspace(1,5,10)   \n",
    "## this will give you a array of 10 element form 1 to 5 of equal space(dif) between no.\n",
    "#see bellow \n",
    "lspace"
   ]
  },
  {
   "cell_type": "code",
   "execution_count": 30,
   "id": "b08cc85e",
   "metadata": {},
   "outputs": [
    {
     "data": {
      "text/plain": [
       "array([ 1.        ,  6.44444444, 11.88888889, 17.33333333, 22.77777778,\n",
       "       28.22222222, 33.66666667, 39.11111111, 44.55555556, 50.        ])"
      ]
     },
     "execution_count": 30,
     "metadata": {},
     "output_type": "execute_result"
    }
   ],
   "source": [
    "llspace = np.linspace(1,50,10)\n",
    "llspace"
   ]
  },
  {
   "cell_type": "code",
   "execution_count": 31,
   "id": "7e7955fb",
   "metadata": {},
   "outputs": [
    {
     "data": {
      "text/plain": [
       "array([1., 2., 3., 4.])"
      ]
     },
     "execution_count": 31,
     "metadata": {},
     "output_type": "execute_result"
    }
   ],
   "source": [
    "lllspace = np.linspace(1,4,4)\n",
    "lllspace"
   ]
  },
  {
   "cell_type": "markdown",
   "id": "d85cd0ce",
   "metadata": {},
   "source": [
    "***empty***"
   ]
  },
  {
   "cell_type": "code",
   "execution_count": 32,
   "id": "b4d317b5",
   "metadata": {},
   "outputs": [
    {
     "data": {
      "text/plain": [
       "array([[0.00e+000, 0.00e+000, 0.00e+000, 0.00e+000],\n",
       "       [0.00e+000, 7.35e-321, 0.00e+000, 0.00e+000]])"
      ]
     },
     "execution_count": 32,
     "metadata": {},
     "output_type": "execute_result"
    }
   ],
   "source": [
    "emp = np.empty((2,4))   \n",
    "#this will give a empty array of shape 2,4 with random elements , letter on we can assing any value to this \n",
    "#see bellow \n",
    "emp"
   ]
  },
  {
   "cell_type": "code",
   "execution_count": 33,
   "id": "e8348141",
   "metadata": {},
   "outputs": [
    {
     "data": {
      "text/plain": [
       "array([1., 2., 3., 4.])"
      ]
     },
     "execution_count": 33,
     "metadata": {},
     "output_type": "execute_result"
    }
   ],
   "source": [
    "emp_like = np.empty_like(lllspace)  # this will create a empty array like lllspace \n",
    "emp_like"
   ]
  },
  {
   "cell_type": "markdown",
   "id": "7d443689",
   "metadata": {},
   "source": [
    "***identity***"
   ]
  },
  {
   "cell_type": "code",
   "execution_count": 34,
   "id": "136d4922",
   "metadata": {},
   "outputs": [
    {
     "data": {
      "text/plain": [
       "array([[1., 0., 0., 0., 0., 0., 0., 0., 0., 0.],\n",
       "       [0., 1., 0., 0., 0., 0., 0., 0., 0., 0.],\n",
       "       [0., 0., 1., 0., 0., 0., 0., 0., 0., 0.],\n",
       "       [0., 0., 0., 1., 0., 0., 0., 0., 0., 0.],\n",
       "       [0., 0., 0., 0., 1., 0., 0., 0., 0., 0.],\n",
       "       [0., 0., 0., 0., 0., 1., 0., 0., 0., 0.],\n",
       "       [0., 0., 0., 0., 0., 0., 1., 0., 0., 0.],\n",
       "       [0., 0., 0., 0., 0., 0., 0., 1., 0., 0.],\n",
       "       [0., 0., 0., 0., 0., 0., 0., 0., 1., 0.],\n",
       "       [0., 0., 0., 0., 0., 0., 0., 0., 0., 1.]])"
      ]
     },
     "execution_count": 34,
     "metadata": {},
     "output_type": "execute_result"
    }
   ],
   "source": [
    "ide = np.identity(10)\n",
    "ide\n",
    "#this will give 10*10 array of identity "
   ]
  },
  {
   "cell_type": "code",
   "execution_count": 35,
   "id": "9b461a6b",
   "metadata": {},
   "outputs": [
    {
     "data": {
      "text/plain": [
       "(10, 10)"
      ]
     },
     "execution_count": 35,
     "metadata": {},
     "output_type": "execute_result"
    }
   ],
   "source": [
    "ide.shape "
   ]
  },
  {
   "cell_type": "markdown",
   "id": "d4e6cb4b",
   "metadata": {},
   "source": [
    "***reshape***"
   ]
  },
  {
   "cell_type": "code",
   "execution_count": 36,
   "id": "0dc4cd87",
   "metadata": {},
   "outputs": [
    {
     "data": {
      "text/plain": [
       "array([ 0,  1,  2,  3,  4,  5,  6,  7,  8,  9, 10, 11, 12, 13, 14, 15, 16,\n",
       "       17, 18, 19, 20, 21, 22, 23, 24, 25, 26, 27, 28, 29, 30, 31, 32, 33,\n",
       "       34, 35, 36, 37, 38, 39, 40, 41, 42, 43, 44, 45, 46, 47, 48, 49, 50,\n",
       "       51, 52, 53, 54, 55, 56, 57, 58, 59, 60, 61, 62, 63, 64, 65, 66, 67,\n",
       "       68, 69, 70, 71, 72, 73, 74])"
      ]
     },
     "execution_count": 36,
     "metadata": {},
     "output_type": "execute_result"
    }
   ],
   "source": [
    "arrr = np.arange(75)\n",
    "arrr\n"
   ]
  },
  {
   "cell_type": "code",
   "execution_count": 37,
   "id": "aa05a434",
   "metadata": {},
   "outputs": [
    {
     "data": {
      "text/plain": [
       "array([[ 0,  1,  2,  3,  4,  5,  6,  7,  8,  9, 10, 11, 12, 13, 14, 15,\n",
       "        16, 17, 18, 19, 20, 21, 22, 23, 24],\n",
       "       [25, 26, 27, 28, 29, 30, 31, 32, 33, 34, 35, 36, 37, 38, 39, 40,\n",
       "        41, 42, 43, 44, 45, 46, 47, 48, 49],\n",
       "       [50, 51, 52, 53, 54, 55, 56, 57, 58, 59, 60, 61, 62, 63, 64, 65,\n",
       "        66, 67, 68, 69, 70, 71, 72, 73, 74]])"
      ]
     },
     "execution_count": 37,
     "metadata": {},
     "output_type": "execute_result"
    }
   ],
   "source": [
    "arrr = arrr.reshape(3,25)  # Now reshaping the above value in 3 rows and 25 columns or 3*25\n",
    "arrr"
   ]
  },
  {
   "cell_type": "markdown",
   "id": "83b35784",
   "metadata": {},
   "source": [
    "***ravel***"
   ]
  },
  {
   "cell_type": "code",
   "execution_count": 38,
   "id": "c4d75a4f",
   "metadata": {},
   "outputs": [
    {
     "data": {
      "text/plain": [
       "array([ 0,  1,  2,  3,  4,  5,  6,  7,  8,  9, 10, 11, 12, 13, 14, 15, 16,\n",
       "       17, 18, 19, 20, 21, 22, 23, 24, 25, 26, 27, 28, 29, 30, 31, 32, 33,\n",
       "       34, 35, 36, 37, 38, 39, 40, 41, 42, 43, 44, 45, 46, 47, 48, 49, 50,\n",
       "       51, 52, 53, 54, 55, 56, 57, 58, 59, 60, 61, 62, 63, 64, 65, 66, 67,\n",
       "       68, 69, 70, 71, 72, 73, 74])"
      ]
     },
     "execution_count": 38,
     "metadata": {},
     "output_type": "execute_result"
    }
   ],
   "source": [
    "arrr = arrr.ravel()   #this function will make it into 1D array \n",
    "arrr"
   ]
  },
  {
   "cell_type": "code",
   "execution_count": 39,
   "id": "f20d23a8",
   "metadata": {},
   "outputs": [
    {
     "data": {
      "text/plain": [
       "(75,)"
      ]
     },
     "execution_count": 39,
     "metadata": {},
     "output_type": "execute_result"
    }
   ],
   "source": [
    "arrr.shape"
   ]
  },
  {
   "cell_type": "markdown",
   "id": "df6cc3c0",
   "metadata": {},
   "source": [
    "### axis of array "
   ]
  },
  {
   "cell_type": "code",
   "execution_count": 40,
   "id": "0e786f07",
   "metadata": {},
   "outputs": [
    {
     "data": {
      "text/plain": [
       "array([[2, 4, 3],\n",
       "       [5, 6, 4],\n",
       "       [7, 8, 9]])"
      ]
     },
     "execution_count": 40,
     "metadata": {},
     "output_type": "execute_result"
    }
   ],
   "source": [
    "x = [[2,4,3],[5,6,4],[7,8,9]]\n",
    "ar = np.array(x)\n",
    "ar"
   ]
  },
  {
   "cell_type": "code",
   "execution_count": 41,
   "id": "314d9663",
   "metadata": {},
   "outputs": [
    {
     "data": {
      "text/plain": [
       "array([14, 18, 16])"
      ]
     },
     "execution_count": 41,
     "metadata": {},
     "output_type": "execute_result"
    }
   ],
   "source": [
    "ar.sum(axis=0)   # up to down "
   ]
  },
  {
   "cell_type": "code",
   "execution_count": 42,
   "id": "17203f32",
   "metadata": {},
   "outputs": [
    {
     "data": {
      "text/plain": [
       "array([ 9, 15, 24])"
      ]
     },
     "execution_count": 42,
     "metadata": {},
     "output_type": "execute_result"
    }
   ],
   "source": [
    "ar.sum(axis=1) # right to left"
   ]
  },
  {
   "cell_type": "code",
   "execution_count": 43,
   "id": "3c9994c3",
   "metadata": {},
   "outputs": [
    {
     "data": {
      "text/plain": [
       "array([[2, 5, 7],\n",
       "       [4, 6, 8],\n",
       "       [3, 4, 9]])"
      ]
     },
     "execution_count": 43,
     "metadata": {},
     "output_type": "execute_result"
    }
   ],
   "source": [
    "ar.T # it will transpose the array "
   ]
  },
  {
   "cell_type": "code",
   "execution_count": 44,
   "id": "77067a04",
   "metadata": {},
   "outputs": [
    {
     "data": {
      "text/plain": [
       "<numpy.flatiter at 0x27240ea4a20>"
      ]
     },
     "execution_count": 44,
     "metadata": {},
     "output_type": "execute_result"
    }
   ],
   "source": [
    " ar.flat  # flat "
   ]
  },
  {
   "cell_type": "code",
   "execution_count": 45,
   "id": "9ab61b33",
   "metadata": {},
   "outputs": [
    {
     "name": "stdout",
     "output_type": "stream",
     "text": [
      "2\n",
      "4\n",
      "3\n",
      "5\n",
      "6\n",
      "4\n",
      "7\n",
      "8\n",
      "9\n"
     ]
    }
   ],
   "source": [
    "for item in ar.flat:\n",
    "    print(item)"
   ]
  },
  {
   "cell_type": "code",
   "execution_count": 46,
   "id": "268694b0",
   "metadata": {},
   "outputs": [
    {
     "data": {
      "text/plain": [
       "array([[2, 4, 3],\n",
       "       [5, 6, 4],\n",
       "       [7, 8, 9]])"
      ]
     },
     "execution_count": 46,
     "metadata": {},
     "output_type": "execute_result"
    }
   ],
   "source": [
    "ar"
   ]
  },
  {
   "cell_type": "code",
   "execution_count": 47,
   "id": "969440aa",
   "metadata": {},
   "outputs": [
    {
     "data": {
      "text/plain": [
       "2"
      ]
     },
     "execution_count": 47,
     "metadata": {},
     "output_type": "execute_result"
    }
   ],
   "source": [
    "ar.ndim # give the dimenstion of array"
   ]
  },
  {
   "cell_type": "code",
   "execution_count": 48,
   "id": "b91f2fd7",
   "metadata": {},
   "outputs": [
    {
     "data": {
      "text/plain": [
       "9"
      ]
     },
     "execution_count": 48,
     "metadata": {},
     "output_type": "execute_result"
    }
   ],
   "source": [
    "ar.size # give the size of the array "
   ]
  },
  {
   "cell_type": "code",
   "execution_count": 49,
   "id": "fe183af9",
   "metadata": {},
   "outputs": [
    {
     "data": {
      "text/plain": [
       "36"
      ]
     },
     "execution_count": 49,
     "metadata": {},
     "output_type": "execute_result"
    }
   ],
   "source": [
    "ar.nbytes # tells total bytes consumed by our array "
   ]
  },
  {
   "cell_type": "code",
   "execution_count": 50,
   "id": "9a74e54f",
   "metadata": {},
   "outputs": [
    {
     "data": {
      "text/plain": [
       "array([ 2,  6, 44, 99])"
      ]
     },
     "execution_count": 50,
     "metadata": {},
     "output_type": "execute_result"
    }
   ],
   "source": [
    "one = np.array([2,6,44,99])  # creating a 1D array \n",
    "one"
   ]
  },
  {
   "cell_type": "code",
   "execution_count": 51,
   "id": "97086830",
   "metadata": {},
   "outputs": [
    {
     "data": {
      "text/plain": [
       "3"
      ]
     },
     "execution_count": 51,
     "metadata": {},
     "output_type": "execute_result"
    }
   ],
   "source": [
    "one.argmax() # will tell the index place having higher value \n",
    "\n",
    "# in our array we have higher value at index 3 "
   ]
  },
  {
   "cell_type": "code",
   "execution_count": 52,
   "id": "8635c72d",
   "metadata": {},
   "outputs": [
    {
     "data": {
      "text/plain": [
       "0"
      ]
     },
     "execution_count": 52,
     "metadata": {},
     "output_type": "execute_result"
    }
   ],
   "source": [
    "one.argmin()  # will tell the idex having lower value "
   ]
  },
  {
   "cell_type": "code",
   "execution_count": 53,
   "id": "8026caa7",
   "metadata": {},
   "outputs": [
    {
     "data": {
      "text/plain": [
       "array([0, 1, 2, 3], dtype=int64)"
      ]
     },
     "execution_count": 53,
     "metadata": {},
     "output_type": "execute_result"
    }
   ],
   "source": [
    "one.argsort()  # will tell the index no. ,, lower to higher value "
   ]
  },
  {
   "cell_type": "code",
   "execution_count": 55,
   "id": "87659097",
   "metadata": {},
   "outputs": [
    {
     "data": {
      "text/plain": [
       "array([[2, 4, 3],\n",
       "       [5, 6, 4],\n",
       "       [7, 8, 9]])"
      ]
     },
     "execution_count": 55,
     "metadata": {},
     "output_type": "execute_result"
    }
   ],
   "source": [
    "ar    # for 2D array"
   ]
  },
  {
   "cell_type": "code",
   "execution_count": 56,
   "id": "68bf72ca",
   "metadata": {},
   "outputs": [
    {
     "data": {
      "text/plain": [
       "8"
      ]
     },
     "execution_count": 56,
     "metadata": {},
     "output_type": "execute_result"
    }
   ],
   "source": [
    "ar.argmax()    # it will consider as flat and will give values based on that "
   ]
  },
  {
   "cell_type": "code",
   "execution_count": 57,
   "id": "ef6ec7db",
   "metadata": {},
   "outputs": [
    {
     "data": {
      "text/plain": [
       "0"
      ]
     },
     "execution_count": 57,
     "metadata": {},
     "output_type": "execute_result"
    }
   ],
   "source": [
    "ar.argmin()"
   ]
  },
  {
   "cell_type": "code",
   "execution_count": 59,
   "id": "f10c6c43",
   "metadata": {},
   "outputs": [
    {
     "data": {
      "text/plain": [
       "array([2, 2, 2], dtype=int64)"
      ]
     },
     "execution_count": 59,
     "metadata": {},
     "output_type": "execute_result"
    }
   ],
   "source": [
    "ar.argmax(axis=0)   "
   ]
  },
  {
   "cell_type": "code",
   "execution_count": 60,
   "id": "c84935f5",
   "metadata": {},
   "outputs": [],
   "source": [
    "# in the first row max value at index 2, for secound row it's 2, same for the 3. that's why above result is 222"
   ]
  },
  {
   "cell_type": "code",
   "execution_count": 61,
   "id": "b477f974",
   "metadata": {},
   "outputs": [
    {
     "data": {
      "text/plain": [
       "array([0, 2, 0], dtype=int64)"
      ]
     },
     "execution_count": 61,
     "metadata": {},
     "output_type": "execute_result"
    }
   ],
   "source": [
    "ar.argmin(axis=1)"
   ]
  },
  {
   "cell_type": "code",
   "execution_count": 62,
   "id": "9dd17950",
   "metadata": {},
   "outputs": [
    {
     "data": {
      "text/plain": [
       "array([[0, 0, 0],\n",
       "       [1, 1, 1],\n",
       "       [2, 2, 2]], dtype=int64)"
      ]
     },
     "execution_count": 62,
     "metadata": {},
     "output_type": "execute_result"
    }
   ],
   "source": [
    "ar.argsort(axis=0)"
   ]
  },
  {
   "cell_type": "code",
   "execution_count": 63,
   "id": "e850f410",
   "metadata": {},
   "outputs": [],
   "source": [
    "# above telling the idex , which need to array be sort"
   ]
  },
  {
   "cell_type": "code",
   "execution_count": 65,
   "id": "289a3ef2",
   "metadata": {},
   "outputs": [
    {
     "data": {
      "text/plain": [
       "array([[0, 2, 1],\n",
       "       [2, 0, 1],\n",
       "       [0, 1, 2]], dtype=int64)"
      ]
     },
     "execution_count": 65,
     "metadata": {},
     "output_type": "execute_result"
    }
   ],
   "source": [
    "ar.argsort(axis=1)"
   ]
  },
  {
   "cell_type": "code",
   "execution_count": 66,
   "id": "58e43f8f",
   "metadata": {},
   "outputs": [
    {
     "data": {
      "text/plain": [
       "(3, 3)"
      ]
     },
     "execution_count": 66,
     "metadata": {},
     "output_type": "execute_result"
    }
   ],
   "source": [
    "ar.shape"
   ]
  },
  {
   "cell_type": "code",
   "execution_count": 68,
   "id": "047b4f9c",
   "metadata": {},
   "outputs": [
    {
     "data": {
      "text/plain": [
       "array([2, 4, 3, 5, 6, 4, 7, 8, 9])"
      ]
     },
     "execution_count": 68,
     "metadata": {},
     "output_type": "execute_result"
    }
   ],
   "source": [
    "ar.ravel()"
   ]
  },
  {
   "cell_type": "code",
   "execution_count": 69,
   "id": "d1a9ac7c",
   "metadata": {},
   "outputs": [
    {
     "data": {
      "text/plain": [
       "array([[2, 4, 3],\n",
       "       [5, 6, 4],\n",
       "       [7, 8, 9]])"
      ]
     },
     "execution_count": 69,
     "metadata": {},
     "output_type": "execute_result"
    }
   ],
   "source": [
    "ar"
   ]
  },
  {
   "cell_type": "code",
   "execution_count": 71,
   "id": "163d1e90",
   "metadata": {},
   "outputs": [
    {
     "data": {
      "text/plain": [
       "array([[ 2,  4,  5],\n",
       "       [ 5,  8,  0],\n",
       "       [11, 22, 33]])"
      ]
     },
     "execution_count": 71,
     "metadata": {},
     "output_type": "execute_result"
    }
   ],
   "source": [
    "ar2 = np.array([[2,4,5],[5,8,0],[11,22,33]])\n",
    "ar2"
   ]
  },
  {
   "cell_type": "code",
   "execution_count": 72,
   "id": "dadaf8d4",
   "metadata": {},
   "outputs": [
    {
     "data": {
      "text/plain": [
       "array([[ 4,  8,  8],\n",
       "       [10, 14,  4],\n",
       "       [18, 30, 42]])"
      ]
     },
     "execution_count": 72,
     "metadata": {},
     "output_type": "execute_result"
    }
   ],
   "source": [
    "ar+ar2"
   ]
  },
  {
   "cell_type": "code",
   "execution_count": 73,
   "id": "49400001",
   "metadata": {},
   "outputs": [],
   "source": [
    "# it has added the value of same index"
   ]
  },
  {
   "cell_type": "code",
   "execution_count": 74,
   "id": "3d783866",
   "metadata": {},
   "outputs": [
    {
     "data": {
      "text/plain": [
       "array([[  4,  16,  15],\n",
       "       [ 25,  48,   0],\n",
       "       [ 77, 176, 297]])"
      ]
     },
     "execution_count": 74,
     "metadata": {},
     "output_type": "execute_result"
    }
   ],
   "source": [
    "ar*ar2"
   ]
  },
  {
   "cell_type": "code",
   "execution_count": 78,
   "id": "a20e4d24",
   "metadata": {},
   "outputs": [
    {
     "data": {
      "text/plain": [
       "array([[1.41421356, 2.        , 1.73205081],\n",
       "       [2.23606798, 2.44948974, 2.        ],\n",
       "       [2.64575131, 2.82842712, 3.        ]])"
      ]
     },
     "execution_count": 78,
     "metadata": {},
     "output_type": "execute_result"
    }
   ],
   "source": [
    "np.sqrt(ar) # this will squar root of array  "
   ]
  },
  {
   "cell_type": "code",
   "execution_count": 82,
   "id": "4a29d2a7",
   "metadata": {},
   "outputs": [
    {
     "data": {
      "text/plain": [
       "array([[2, 4, 3],\n",
       "       [5, 6, 4],\n",
       "       [7, 8, 9]])"
      ]
     },
     "execution_count": 82,
     "metadata": {},
     "output_type": "execute_result"
    }
   ],
   "source": [
    "ar"
   ]
  },
  {
   "cell_type": "code",
   "execution_count": 79,
   "id": "403f21e9",
   "metadata": {},
   "outputs": [
    {
     "data": {
      "text/plain": [
       "9"
      ]
     },
     "execution_count": 79,
     "metadata": {},
     "output_type": "execute_result"
    }
   ],
   "source": [
    "ar.max()"
   ]
  },
  {
   "cell_type": "code",
   "execution_count": 80,
   "id": "c61d20be",
   "metadata": {},
   "outputs": [
    {
     "data": {
      "text/plain": [
       "2"
      ]
     },
     "execution_count": 80,
     "metadata": {},
     "output_type": "execute_result"
    }
   ],
   "source": [
    "ar.min()"
   ]
  },
  {
   "cell_type": "code",
   "execution_count": 81,
   "id": "65844bea",
   "metadata": {},
   "outputs": [
    {
     "data": {
      "text/plain": [
       "48"
      ]
     },
     "execution_count": 81,
     "metadata": {},
     "output_type": "execute_result"
    }
   ],
   "source": [
    "ar.sum()"
   ]
  },
  {
   "cell_type": "code",
   "execution_count": 83,
   "id": "25330fec",
   "metadata": {},
   "outputs": [
    {
     "data": {
      "text/plain": [
       "(array([1, 2, 2, 2], dtype=int64), array([1, 0, 1, 2], dtype=int64))"
      ]
     },
     "execution_count": 83,
     "metadata": {},
     "output_type": "execute_result"
    }
   ],
   "source": [
    "np.where(ar>5)  # will give the index no. where values is gr than 5 ,, this index will be in tuple"
   ]
  },
  {
   "cell_type": "code",
   "execution_count": 85,
   "id": "513d92e9",
   "metadata": {},
   "outputs": [
    {
     "data": {
      "text/plain": [
       "tuple"
      ]
     },
     "execution_count": 85,
     "metadata": {},
     "output_type": "execute_result"
    }
   ],
   "source": [
    "type(np.where(ar>5))  # see it's a tuple "
   ]
  },
  {
   "cell_type": "code",
   "execution_count": null,
   "id": "6c77ba8d",
   "metadata": {},
   "outputs": [],
   "source": [
    "np.count_nonzero(ar)  # will give the count of non zero elements"
   ]
  },
  {
   "cell_type": "code",
   "execution_count": 89,
   "id": "ad11da2f",
   "metadata": {},
   "outputs": [
    {
     "data": {
      "text/plain": [
       "8"
      ]
     },
     "execution_count": 89,
     "metadata": {},
     "output_type": "execute_result"
    }
   ],
   "source": [
    "ar[1,2] = 0          # changing 1,2 idex value to zero , then counting\n",
    "np.count_nonzero(ar)"
   ]
  },
  {
   "cell_type": "code",
   "execution_count": 101,
   "id": "85d213c5",
   "metadata": {},
   "outputs": [
    {
     "data": {
      "text/plain": [
       "array([[2, 4, 3],\n",
       "       [5, 6, 0],\n",
       "       [7, 8, 9]])"
      ]
     },
     "execution_count": 101,
     "metadata": {},
     "output_type": "execute_result"
    }
   ],
   "source": [
    "ar"
   ]
  },
  {
   "cell_type": "code",
   "execution_count": 103,
   "id": "b1b104af",
   "metadata": {},
   "outputs": [],
   "source": [
    "ar3 = np.array([1,2,3])"
   ]
  },
  {
   "cell_type": "code",
   "execution_count": 105,
   "id": "15109e07",
   "metadata": {},
   "outputs": [
    {
     "data": {
      "text/plain": [
       "array([33, 40, 30])"
      ]
     },
     "execution_count": 105,
     "metadata": {},
     "output_type": "execute_result"
    }
   ],
   "source": [
    "C= np.dot(ar3,ar)  \n",
    "C"
   ]
  },
  {
   "cell_type": "code",
   "execution_count": 107,
   "id": "385b4f89",
   "metadata": {},
   "outputs": [
    {
     "data": {
      "text/plain": [
       "array([[ 57, 106, 109],\n",
       "       [ 40,  68,  25],\n",
       "       [153, 290, 332]])"
      ]
     },
     "execution_count": 107,
     "metadata": {},
     "output_type": "execute_result"
    }
   ],
   "source": [
    "d = np.dot(ar,ar2)\n",
    "d"
   ]
  },
  {
   "cell_type": "code",
   "execution_count": 109,
   "id": "3ff601dd",
   "metadata": {},
   "outputs": [
    {
     "data": {
      "text/plain": [
       "array([[2, 2],\n",
       "       [2, 2]])"
      ]
     },
     "execution_count": 109,
     "metadata": {},
     "output_type": "execute_result"
    }
   ],
   "source": [
    "X=np.array([[1,0],[0,1]])\n",
    "Y=np.array([[2,2],[2,2]])\n",
    "Z=np.dot(X,Y)\n",
    "Z"
   ]
  },
  {
   "cell_type": "markdown",
   "id": "b1db7218",
   "metadata": {},
   "source": [
    "### size different of python list and np"
   ]
  },
  {
   "cell_type": "code",
   "execution_count": 91,
   "id": "d33c32d0",
   "metadata": {},
   "outputs": [],
   "source": [
    "import sys "
   ]
  },
  {
   "cell_type": "code",
   "execution_count": 95,
   "id": "54a65023",
   "metadata": {},
   "outputs": [],
   "source": [
    "py_ar = [11,22,33,66,55,44,99]    # python arrray or list  "
   ]
  },
  {
   "cell_type": "code",
   "execution_count": 97,
   "id": "483fb0d7",
   "metadata": {},
   "outputs": [
    {
     "data": {
      "text/plain": [
       "196"
      ]
     },
     "execution_count": 97,
     "metadata": {},
     "output_type": "execute_result"
    }
   ],
   "source": [
    "sys.getsizeof(1)*len(py_ar)"
   ]
  },
  {
   "cell_type": "code",
   "execution_count": 98,
   "id": "c4ac809d",
   "metadata": {},
   "outputs": [],
   "source": [
    "np_ar = np.array(py_ar)           # np array of same element"
   ]
  },
  {
   "cell_type": "code",
   "execution_count": 99,
   "id": "21236ba5",
   "metadata": {},
   "outputs": [
    {
     "data": {
      "text/plain": [
       "28"
      ]
     },
     "execution_count": 99,
     "metadata": {},
     "output_type": "execute_result"
    }
   ],
   "source": [
    "np_ar.itemsize*np_ar.size"
   ]
  }
 ],
 "metadata": {
  "kernelspec": {
   "display_name": "Python 3 (ipykernel)",
   "language": "python",
   "name": "python3"
  },
  "language_info": {
   "codemirror_mode": {
    "name": "ipython",
    "version": 3
   },
   "file_extension": ".py",
   "mimetype": "text/x-python",
   "name": "python",
   "nbconvert_exporter": "python",
   "pygments_lexer": "ipython3",
   "version": "3.9.13"
  }
 },
 "nbformat": 4,
 "nbformat_minor": 5
}
